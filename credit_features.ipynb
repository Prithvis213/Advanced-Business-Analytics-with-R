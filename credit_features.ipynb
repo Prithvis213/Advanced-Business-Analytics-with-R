{
 "cells": [
  {
   "cell_type": "markdown",
   "metadata": {},
   "source": [
    "# Home Credit Dataset Feature Engineering "
   ]
  },
  {
   "cell_type": "markdown",
   "metadata": {},
   "source": [
    "Part of my University Course \"Advanced Business Analytics with R\" at the University of Texas at Dallas - \n",
    "Naveen Jindal School of Management, I am required to work and present a project. For the same reason, I chose the Home Credit Deafult risk dataset which was a Kaggle Competition sometime back. This dataset came with a whole lot of complexity, in terms of the feature engineering. The main aim of this competition was to predict whether a person is capable of repaying a loan or not. "
   ]
  },
  {
   "cell_type": "markdown",
   "metadata": {},
   "source": [
    "The dataset consists of data relating to the applicants, their previous applications, credit bureau data and so on. The feature engineering in this case was tough because for each applicant can have mutiple previous loan applications, plus mutiple credit bureau reports and hence, each individual applicant would have multiple rows for the current application when combining all the datasets. There is a need to have the additional data apart from the applicant data as that would be a huge deciding factor in the payment capabilities.     "
   ]
  },
  {
   "cell_type": "markdown",
   "metadata": {},
   "source": [
    "The feature engineering is a very time consuming task in this case and hence Dask as well as Featuretools came in handy to speed up the process and obtain the final feature set as desired."
   ]
  },
  {
   "cell_type": "code",
   "execution_count": 47,
   "metadata": {},
   "outputs": [
    {
     "name": "stderr",
     "output_type": "stream",
     "text": [
      "distributed.comm.tcp - WARNING - Closing dangling stream in <TCP  local=tcp://127.0.0.1:52239 remote=tcp://127.0.0.1:56144>\n"
     ]
    }
   ],
   "source": [
    "import pandas as pd \n",
    "import numpy as np \n",
    "import os as os \n",
    "import sys\n",
    "import psutil"
   ]
  },
  {
   "cell_type": "markdown",
   "metadata": {},
   "source": [
    "Loading the datasets"
   ]
  },
  {
   "cell_type": "code",
   "execution_count": 49,
   "metadata": {},
   "outputs": [],
   "source": [
    "application = pd.read_csv(\"Application.csv\")\n",
    "bureau = pd.read_csv(\"bureau.csv\").replace({365243: np.nan})\n",
    "bureau_balance = pd.read_csv(\"bureau_balance.csv\").replace({365243: np.nan})\n",
    "credit_card_balance = pd.read_csv(\"credit_card_balance.csv\").replace({365243: np.nan})\n",
    "installment_payments = pd.read_csv(\"installments_payments.csv\").replace({365243: np.nan})\n",
    "POS_CASH_balance = pd.read_csv(\"POS_CASH_balance.csv\").replace({365243: np.nan})\n",
    "previous_application = pd.read_csv(\"previous_application.csv\").replace({365243: np.nan})"
   ]
  },
  {
   "cell_type": "code",
   "execution_count": 10,
   "metadata": {},
   "outputs": [],
   "source": [
    "bureau_balance = bureau_balance.merge(bureau[['SK_ID_CURR', 'SK_ID_BUREAU']], \n",
    "                                      on = 'SK_ID_BUREAU', how = 'left')"
   ]
  },
  {
   "cell_type": "markdown",
   "metadata": {},
   "source": [
    "Converting data types to reduce memory usage"
   ]
  },
  {
   "cell_type": "code",
   "execution_count": 12,
   "metadata": {},
   "outputs": [
    {
     "name": "stdout",
     "output_type": "stream",
     "text": [
      "Total memory before converting types: 4.03 gb.\n"
     ]
    }
   ],
   "source": [
    "print(f\"\"\"Total memory before converting types: \\\n",
    "{round(np.sum([x.memory_usage().sum() / 1e9 for x in \n",
    "[application, bureau, bureau_balance, credit_card_balance, POS_CASH_balance, previous_application, installment_payments ]]), 2)} gb.\"\"\")"
   ]
  },
  {
   "cell_type": "code",
   "execution_count": 51,
   "metadata": {},
   "outputs": [],
   "source": [
    "def convert_types(df):\n",
    "    \"\"\"Convert pandas data types for memory reduction.\"\"\"\n",
    "    \n",
    "    # Iterate through each column\n",
    "    for c in df:\n",
    "        \n",
    "        # Convert ids and booleans to integers\n",
    "        if ('SK_ID' in c):\n",
    "            df[c] = df[c].fillna(0).astype(np.int32)\n",
    "            \n",
    "        # Convert objects to category\n",
    "        elif (df[c].dtype == 'object') and (df[c].nunique() < df.shape[0]):\n",
    "            df[c] = df[c].astype('category')\n",
    "        \n",
    "        # Booleans mapped to integers\n",
    "        elif set(df[c].unique()) == {0, 1}:\n",
    "            df[c] = df[c].astype(bool)\n",
    "        \n",
    "        # Float64 to float32\n",
    "        elif df[c].dtype == float:\n",
    "            df[c] = df[c].astype(np.float32)\n",
    "            \n",
    "        # Int64 to int32\n",
    "        elif df[c].dtype == int:\n",
    "            df[c] = df[c].astype(np.int32)\n",
    "        \n",
    "    return df"
   ]
  },
  {
   "cell_type": "code",
   "execution_count": 52,
   "metadata": {},
   "outputs": [],
   "source": [
    "application = convert_types(application)\n",
    "bureau = convert_types(bureau)\n",
    "bureau_balance = convert_types(bureau_balance)\n",
    "credit_card_balance = convert_types(credit_card_balance)\n",
    "installment_payments = convert_types(installment_payments)\n",
    "POS_CASH_balance = convert_types(POS_CASH_balance)\n",
    "previous_application = convert_types(previous_application)"
   ]
  },
  {
   "cell_type": "code",
   "execution_count": 53,
   "metadata": {},
   "outputs": [
    {
     "name": "stdout",
     "output_type": "stream",
     "text": [
      "Total memory after converting types: 1.85 gb.\n"
     ]
    }
   ],
   "source": [
    "print(f\"\"\"Total memory after converting types: \\\n",
    "{round(np.sum([x.memory_usage().sum() / 1e9 for x in \n",
    "[application, bureau, bureau_balance, credit_card_balance, POS_CASH_balance, previous_application, installment_payments ]]), 2)} gb.\"\"\")"
   ]
  },
  {
   "cell_type": "markdown",
   "metadata": {},
   "source": [
    "Creating partitions to run the Automated Feature Engineering quicker "
   ]
  },
  {
   "cell_type": "code",
   "execution_count": null,
   "metadata": {},
   "outputs": [],
   "source": [
    "def create_partition(client_list, partition_number):\n",
    "    \"\"\"Creates and saves a dataset with users in user_list\"\"\"\n",
    "    directory = os.path.join(os.getenv('programdata'), '/d%d' % (partition_number + 1))\n",
    "    if not os.path.isdir(directory):\n",
    "        os.makedirs(directory)\n",
    "\n",
    "    \n",
    "        application_subset = application[application.index.isin(client_list)].copy().reset_index()\n",
    "        bureau_subset = bureau[bureau.index.isin(client_list)].copy().reset_index()\n",
    "        bureau_balance_subset = bureau_balance[bureau_balance.index.isin(client_list)].copy().reset_index(drop = True)\n",
    "        POS_CASH_balance_subset = POS_CASH_balance[POS_CASH_balance.index.isin(client_list)].copy().reset_index(drop = True)\n",
    "        credit_card_balance_subset = credit_card_balance[credit_card_balance.index.isin(client_list)].copy().reset_index(drop = True)\n",
    "        previous_application_subset = previous_application[previous_application.index.isin(client_list)].copy().reset_index()\n",
    "        installment_payments_subset = installment_payments[installment_payments.index.isin(client_list)].copy().reset_index(drop = True)\n",
    "    \n",
    "    # Save subset data with partition number as identifier\n",
    "        application_subset.to_csv('%s/application.csv' % directory, index = False)\n",
    "        bureau_subset.to_csv('%s/bureau.csv' % directory, index = False)\n",
    "        bureau_balance_subset.to_csv('%s/bureau_balance.csv' % directory, index = False)\n",
    "        POS_CASH_balance_subset.to_csv('%s/POS_CASH_balance.csv' % directory, index = False)\n",
    "        credit_card_balance_subset.to_csv('%s/credit_card_balance.csv' % directory, index = False)\n",
    "        previous_application_subset.to_csv('%s/previous_application.csv' % directory, index = False)\n",
    "        installment_payments_subset.to_csv('%s/installment_payments.csv' % directory, index = False)\n",
    "\n"
   ]
  },
  {
   "cell_type": "code",
   "execution_count": null,
   "metadata": {},
   "outputs": [],
   "source": [
    "# Chunk size for 104 sections\n",
    "chunk_size = len(application) // 103\n",
    "\n",
    "# Create list of lists of clients in each section\n",
    "client_lists = [application[i:i + chunk_size].index for i in range(0, len(application), chunk_size)]"
   ]
  },
  {
   "cell_type": "code",
   "execution_count": 21,
   "metadata": {},
   "outputs": [
    {
     "name": "stdout",
     "output_type": "stream",
     "text": [
      "Number of ids in id_list:         307507.\n",
      "Total length of application data: 307507.\n"
     ]
    }
   ],
   "source": [
    "from itertools import chain\n",
    "\n",
    "# Sanity check that we have not missed any ids\n",
    "print('Number of ids in id_list:         {}.'.format(len(list(chain(*client_lists)))))\n",
    "print('Total length of application data: {}.'.format(len(application)))        "
   ]
  },
  {
   "cell_type": "code",
   "execution_count": null,
   "metadata": {},
   "outputs": [],
   "source": [
    "for i, client_list in enumerate(client_lists):\n",
    "    create_partition(client_list, i)    "
   ]
  },
  {
   "cell_type": "markdown",
   "metadata": {},
   "source": [
    "I have used Deep Feature Synthesis, so that, I can get all the features based on the main application data and do it quickly, \n",
    "because doing through pandas group by and other arithmetic functions is very time consuming. The deep feature synthesis through \n",
    "the featuretools package automatically maps the feature and performs the required function a lot more efficiently. "
   ]
  },
  {
   "cell_type": "code",
   "execution_count": 22,
   "metadata": {},
   "outputs": [],
   "source": [
    "import featuretools as ft\n",
    "import featuretools.variable_types as vtypes"
   ]
  },
  {
   "cell_type": "markdown",
   "metadata": {},
   "source": [
    "I have mapped the entity relations for the data through the indexed value (SK_ID_CURR)."
   ]
  },
  {
   "cell_type": "code",
   "execution_count": 23,
   "metadata": {},
   "outputs": [],
   "source": [
    "def entityset(path):\n",
    "    \n",
    "    partition_num = path[4:]\n",
    "     \n",
    "    application = pd.read_csv(\"%s/application.csv\" % path)\n",
    "    bureau = pd.read_csv(\"%s/bureau.csv\" % path)\n",
    "    bureau_balance = pd.read_csv(\"%s/bureau_balance.csv\" % path)\n",
    "    credit_card_balance = pd.read_csv(\"%s/credit_card_balance.csv\" % path)\n",
    "    installment_payments = pd.read_csv(\"%s/installment_payments.csv\" % path)\n",
    "    POS_CASH_balance = pd.read_csv(\"%s/POS_CASH_balance.csv\" % path)\n",
    "    previous_application = pd.read_csv(\"%s/previous_application.csv\" % path)\n",
    "    \n",
    "    #creating entityset\n",
    "    es = ft.EntitySet(id = \"credit\")\n",
    "    \n",
    "    #creating entity from application\n",
    "    es = es.entity_from_dataframe(entity_id=\"application\", dataframe = application, index = \"SK_ID_CURR\")\n",
    "    \n",
    "    #creating entity from previous\n",
    "    es = es.entity_from_dataframe(entity_id=\"previous_application\", dataframe = previous_application, index = \"SK_ID_PREV\")\n",
    "    \n",
    "    #creating entity from bureau\n",
    "    es = es.entity_from_dataframe(entity_id = 'bureau', dataframe = bureau, index = 'SK_ID_BUREAU')\n",
    "    \n",
    "    #creating entity from bureau_balance with no unique index\n",
    "    es = es.entity_from_dataframe(entity_id = 'bureau_balance', dataframe = bureau_balance, \n",
    "                            make_index = True, index = 'bureaubalance_id10')\n",
    "    \n",
    "    #creating entity from credit_card_balance with no unique index\n",
    "    es = es.entity_from_dataframe(entity_id = 'credit_card_balance', dataframe = credit_card_balance, \n",
    "                            make_index = True, index = 'credit_card_id10')\n",
    "    \n",
    "    #creating entity from installment with no unique index\n",
    "    es = es.entity_from_dataframe(entity_id = 'installment_payments', dataframe = installment_payments, \n",
    "                            make_index = True, index = 'installment_payments_id10')\n",
    "    \n",
    "    #creating entity from POS_CASH_balance with no unique index\n",
    "    es = es.entity_from_dataframe(entity_id = 'POS_CASH_balance', dataframe = POS_CASH_balance, \n",
    "                            make_index = True, index = 'POS_CASH_balance_id10')\n",
    "    \n",
    "    #relationship between application and bureau\n",
    "    app_r = ft.Relationship(es[\"application\"][\"SK_ID_CURR\"], \n",
    "                       es[\"bureau\"][\"SK_ID_CURR\"])\n",
    "    \n",
    "    # Relationship between bureau and bureau balance\n",
    "    bur_r = ft.Relationship(es['bureau']['SK_ID_BUREAU'], es['bureau_balance']['SK_ID_BUREAU'])\n",
    "    \n",
    "    # Relationship between current app and previous apps\n",
    "    prev_r = ft.Relationship(es['application']['SK_ID_CURR'], es['previous_application']['SK_ID_CURR'])\n",
    "    \n",
    "    # Relationships between previous apps and cash, installments, and credit\n",
    "    prev_cash_r = ft.Relationship(es['previous_application']['SK_ID_PREV'], es['POS_CASH_balance']['SK_ID_PREV'])\n",
    "    prev_inst_r = ft.Relationship(es['previous_application']['SK_ID_PREV'], es['installment_payments']['SK_ID_PREV'])\n",
    "    prev_cred_r = ft.Relationship(es['previous_application']['SK_ID_PREV'], es['credit_card_balance']['SK_ID_PREV'])\n",
    "    \n",
    "    es = es.add_relationships([app_r, bur_r, prev_r, prev_cash_r, prev_inst_r, prev_cred_r])\n",
    "    \n",
    "    return ({'es': es, 'num': partition_num})\n",
    "    \n",
    "    \n",
    "    "
   ]
  },
  {
   "cell_type": "markdown",
   "metadata": {},
   "source": [
    "I have tested the Deep Feature Synthesis for one parition so that it can then be run for every other partition."
   ]
  },
  {
   "cell_type": "code",
   "execution_count": 24,
   "metadata": {},
   "outputs": [
    {
     "data": {
      "text/plain": [
       "Entityset: credit\n",
       "  Entities:\n",
       "    application [Rows: 2985, Columns: 87]\n",
       "    previous_application [Rows: 14044, Columns: 37]\n",
       "    bureau [Rows: 13899, Columns: 17]\n",
       "    bureau_balance [Rows: 143218, Columns: 5]\n",
       "    credit_card_balance [Rows: 31625, Columns: 24]\n",
       "    installment_payments [Rows: 112125, Columns: 9]\n",
       "    POS_CASH_balance [Rows: 83320, Columns: 9]\n",
       "  Relationships:\n",
       "    bureau.SK_ID_CURR -> application.SK_ID_CURR\n",
       "    bureau_balance.SK_ID_BUREAU -> bureau.SK_ID_BUREAU\n",
       "    previous_application.SK_ID_CURR -> application.SK_ID_CURR\n",
       "    POS_CASH_balance.SK_ID_PREV -> previous_application.SK_ID_PREV\n",
       "    installment_payments.SK_ID_PREV -> previous_application.SK_ID_PREV\n",
       "    credit_card_balance.SK_ID_PREV -> previous_application.SK_ID_PREV"
      ]
     },
     "execution_count": 24,
     "metadata": {},
     "output_type": "execute_result"
    }
   ],
   "source": [
    "es1_dict = entityset('C:/d1')\n",
    "es1_dict['es']"
   ]
  },
  {
   "cell_type": "markdown",
   "metadata": {},
   "source": [
    "Checking the number of features built "
   ]
  },
  {
   "cell_type": "code",
   "execution_count": 25,
   "metadata": {},
   "outputs": [
    {
     "name": "stdout",
     "output_type": "stream",
     "text": [
      "1180 Total Features\n"
     ]
    }
   ],
   "source": [
    "# Default primitives from featuretools\n",
    "default_agg_primitives =  ['sum', 'count', 'min', 'max', 'mean', 'mode']\n",
    "\n",
    "# DFS with specified primitives\n",
    "feature_names = ft.dfs(entityset = es1_dict['es'], target_entity = 'application',\n",
    "                       agg_primitives=default_agg_primitives, \n",
    "                       max_depth = 2, features_only=True)\n",
    "\n",
    "print('%d Total Features' % len(feature_names))"
   ]
  },
  {
   "cell_type": "code",
   "execution_count": 26,
   "metadata": {},
   "outputs": [],
   "source": [
    "feature_names1 = ft.save_features(feature_names)"
   ]
  },
  {
   "cell_type": "code",
   "execution_count": 27,
   "metadata": {},
   "outputs": [],
   "source": [
    "feature_defs = ft.load_features(feature_names1)"
   ]
  },
  {
   "cell_type": "markdown",
   "metadata": {},
   "source": [
    "Function to create Feature Matrix"
   ]
  },
  {
   "cell_type": "code",
   "execution_count": 28,
   "metadata": {},
   "outputs": [],
   "source": [
    "def feature_matrix_from_entityset(es_dict, feature_defs, return_fm = False):\n",
    "    \"\"\"Run deep feature synthesis from an entityset and feature definitions. \n",
    "    Saves feature matrix based on partition.\"\"\" \n",
    "    os.getenv('programdata')\n",
    "    \n",
    "    # Extract the entityset\n",
    "    es = es_dict['es']\n",
    "    \n",
    "    # Calculate the feature matrix and save\n",
    "    feature_matrix = ft.calculate_feature_matrix(feature_defs,\n",
    "                                                 entityset=es, \n",
    "                                                 n_jobs = 1, \n",
    "                                                 verbose = 0,\n",
    "                                                 chunk_size = es['application'].df.shape[0])\n",
    "    \n",
    "    feature_matrix.to_csv('C:/Users/prith/OneDrive/Desktop/Advanced BA with R/p%s_fm.csv' % es_dict['num'], index = True,)\n",
    "    \n",
    "    if return_fm:\n",
    "        return feature_matrix"
   ]
  },
  {
   "cell_type": "markdown",
   "metadata": {},
   "source": [
    "Test with one parition to check whether the features were built"
   ]
  },
  {
   "cell_type": "code",
   "execution_count": 49,
   "metadata": {},
   "outputs": [
    {
     "name": "stdout",
     "output_type": "stream",
     "text": [
      "Built 1180 features\n",
      "Elapsed: 00:04 | Progress:  28%|████████████████████████▏                                                              "
     ]
    },
    {
     "name": "stderr",
     "output_type": "stream",
     "text": [
      "distributed.comm.tcp - WARNING - Closing dangling stream in <TCP  local=tcp://127.0.0.1:54921 remote=tcp://127.0.0.1:54841>\n"
     ]
    },
    {
     "name": "stdout",
     "output_type": "stream",
     "text": [
      "Elapsed: 00:47 | Progress: 100%|███████████████████████████████████████████████████████████████████████████████████████\n"
     ]
    }
   ],
   "source": [
    "feature_matrix_spec, feature_names_spec = ft.dfs(entityset = es1_dict['es'], target_entity = 'application',  \n",
    "                                                 agg_primitives = ['sum', 'count', 'min', 'max', 'mean', 'mode'], \n",
    "                                                 max_depth = 2, features_only = False, verbose = True)"
   ]
  },
  {
   "cell_type": "code",
   "execution_count": 50,
   "metadata": {},
   "outputs": [
    {
     "data": {
      "text/html": [
       "<div>\n",
       "<style scoped>\n",
       "    .dataframe tbody tr th:only-of-type {\n",
       "        vertical-align: middle;\n",
       "    }\n",
       "\n",
       "    .dataframe tbody tr th {\n",
       "        vertical-align: top;\n",
       "    }\n",
       "\n",
       "    .dataframe thead th {\n",
       "        text-align: right;\n",
       "    }\n",
       "</style>\n",
       "<table border=\"1\" class=\"dataframe\">\n",
       "  <thead>\n",
       "    <tr style=\"text-align: right;\">\n",
       "      <th></th>\n",
       "      <th>TARGET</th>\n",
       "      <th>NAME_CONTRACT_TYPE</th>\n",
       "      <th>CODE_GENDER</th>\n",
       "      <th>FLAG_OWN_CAR</th>\n",
       "      <th>FLAG_OWN_REALTY</th>\n",
       "      <th>CNT_CHILDREN</th>\n",
       "      <th>AMT_INCOME_TOTAL</th>\n",
       "      <th>AMT_CREDIT</th>\n",
       "      <th>AMT_ANNUITY</th>\n",
       "      <th>AMT_GOODS_PRICE</th>\n",
       "      <th>...</th>\n",
       "      <th>MODE(credit_card_balance.previous_application.NAME_PRODUCT_TYPE)</th>\n",
       "      <th>MODE(credit_card_balance.previous_application.FLAG_LAST_APPL_PER_CONTRACT)</th>\n",
       "      <th>MODE(credit_card_balance.previous_application.NAME_PORTFOLIO)</th>\n",
       "      <th>MODE(credit_card_balance.previous_application.NAME_SELLER_INDUSTRY)</th>\n",
       "      <th>MODE(credit_card_balance.previous_application.WEEKDAY_APPR_PROCESS_START)</th>\n",
       "      <th>MODE(credit_card_balance.previous_application.NAME_CONTRACT_STATUS)</th>\n",
       "      <th>MODE(credit_card_balance.previous_application.PRODUCT_COMBINATION)</th>\n",
       "      <th>MODE(credit_card_balance.previous_application.NAME_CASH_LOAN_PURPOSE)</th>\n",
       "      <th>MODE(credit_card_balance.previous_application.NAME_CONTRACT_TYPE)</th>\n",
       "      <th>MODE(credit_card_balance.previous_application.CHANNEL_TYPE)</th>\n",
       "    </tr>\n",
       "    <tr>\n",
       "      <th>SK_ID_CURR</th>\n",
       "      <th></th>\n",
       "      <th></th>\n",
       "      <th></th>\n",
       "      <th></th>\n",
       "      <th></th>\n",
       "      <th></th>\n",
       "      <th></th>\n",
       "      <th></th>\n",
       "      <th></th>\n",
       "      <th></th>\n",
       "      <th></th>\n",
       "      <th></th>\n",
       "      <th></th>\n",
       "      <th></th>\n",
       "      <th></th>\n",
       "      <th></th>\n",
       "      <th></th>\n",
       "      <th></th>\n",
       "      <th></th>\n",
       "      <th></th>\n",
       "      <th></th>\n",
       "    </tr>\n",
       "  </thead>\n",
       "  <tbody>\n",
       "    <tr>\n",
       "      <th>100002</th>\n",
       "      <td>True</td>\n",
       "      <td>Cash loans</td>\n",
       "      <td>M</td>\n",
       "      <td>N</td>\n",
       "      <td>Y</td>\n",
       "      <td>0</td>\n",
       "      <td>202500.0</td>\n",
       "      <td>406597.5</td>\n",
       "      <td>24700.5</td>\n",
       "      <td>351000.0</td>\n",
       "      <td>...</td>\n",
       "      <td>NaN</td>\n",
       "      <td>NaN</td>\n",
       "      <td>NaN</td>\n",
       "      <td>NaN</td>\n",
       "      <td>NaN</td>\n",
       "      <td>NaN</td>\n",
       "      <td>NaN</td>\n",
       "      <td>NaN</td>\n",
       "      <td>NaN</td>\n",
       "      <td>NaN</td>\n",
       "    </tr>\n",
       "    <tr>\n",
       "      <th>100003</th>\n",
       "      <td>False</td>\n",
       "      <td>Cash loans</td>\n",
       "      <td>F</td>\n",
       "      <td>N</td>\n",
       "      <td>N</td>\n",
       "      <td>0</td>\n",
       "      <td>270000.0</td>\n",
       "      <td>1293502.5</td>\n",
       "      <td>35698.5</td>\n",
       "      <td>1129500.0</td>\n",
       "      <td>...</td>\n",
       "      <td>NaN</td>\n",
       "      <td>NaN</td>\n",
       "      <td>NaN</td>\n",
       "      <td>NaN</td>\n",
       "      <td>NaN</td>\n",
       "      <td>NaN</td>\n",
       "      <td>NaN</td>\n",
       "      <td>NaN</td>\n",
       "      <td>NaN</td>\n",
       "      <td>NaN</td>\n",
       "    </tr>\n",
       "    <tr>\n",
       "      <th>100004</th>\n",
       "      <td>False</td>\n",
       "      <td>Revolving loans</td>\n",
       "      <td>M</td>\n",
       "      <td>Y</td>\n",
       "      <td>Y</td>\n",
       "      <td>0</td>\n",
       "      <td>67500.0</td>\n",
       "      <td>135000.0</td>\n",
       "      <td>6750.0</td>\n",
       "      <td>135000.0</td>\n",
       "      <td>...</td>\n",
       "      <td>NaN</td>\n",
       "      <td>NaN</td>\n",
       "      <td>NaN</td>\n",
       "      <td>NaN</td>\n",
       "      <td>NaN</td>\n",
       "      <td>NaN</td>\n",
       "      <td>NaN</td>\n",
       "      <td>NaN</td>\n",
       "      <td>NaN</td>\n",
       "      <td>NaN</td>\n",
       "    </tr>\n",
       "    <tr>\n",
       "      <th>100006</th>\n",
       "      <td>False</td>\n",
       "      <td>Cash loans</td>\n",
       "      <td>F</td>\n",
       "      <td>N</td>\n",
       "      <td>Y</td>\n",
       "      <td>0</td>\n",
       "      <td>135000.0</td>\n",
       "      <td>312682.5</td>\n",
       "      <td>29686.5</td>\n",
       "      <td>297000.0</td>\n",
       "      <td>...</td>\n",
       "      <td>x-sell</td>\n",
       "      <td>Y</td>\n",
       "      <td>Cards</td>\n",
       "      <td>XNA</td>\n",
       "      <td>THURSDAY</td>\n",
       "      <td>Approved</td>\n",
       "      <td>Card X-Sell</td>\n",
       "      <td>XAP</td>\n",
       "      <td>Revolving loans</td>\n",
       "      <td>Credit and cash offices</td>\n",
       "    </tr>\n",
       "    <tr>\n",
       "      <th>100007</th>\n",
       "      <td>False</td>\n",
       "      <td>Cash loans</td>\n",
       "      <td>M</td>\n",
       "      <td>N</td>\n",
       "      <td>Y</td>\n",
       "      <td>0</td>\n",
       "      <td>121500.0</td>\n",
       "      <td>513000.0</td>\n",
       "      <td>21865.5</td>\n",
       "      <td>513000.0</td>\n",
       "      <td>...</td>\n",
       "      <td>NaN</td>\n",
       "      <td>NaN</td>\n",
       "      <td>NaN</td>\n",
       "      <td>NaN</td>\n",
       "      <td>NaN</td>\n",
       "      <td>NaN</td>\n",
       "      <td>NaN</td>\n",
       "      <td>NaN</td>\n",
       "      <td>NaN</td>\n",
       "      <td>NaN</td>\n",
       "    </tr>\n",
       "  </tbody>\n",
       "</table>\n",
       "<p>5 rows × 1180 columns</p>\n",
       "</div>"
      ],
      "text/plain": [
       "            TARGET NAME_CONTRACT_TYPE CODE_GENDER FLAG_OWN_CAR  \\\n",
       "SK_ID_CURR                                                       \n",
       "100002        True         Cash loans           M            N   \n",
       "100003       False         Cash loans           F            N   \n",
       "100004       False    Revolving loans           M            Y   \n",
       "100006       False         Cash loans           F            N   \n",
       "100007       False         Cash loans           M            N   \n",
       "\n",
       "           FLAG_OWN_REALTY  CNT_CHILDREN  AMT_INCOME_TOTAL  AMT_CREDIT  \\\n",
       "SK_ID_CURR                                                               \n",
       "100002                   Y             0          202500.0    406597.5   \n",
       "100003                   N             0          270000.0   1293502.5   \n",
       "100004                   Y             0           67500.0    135000.0   \n",
       "100006                   Y             0          135000.0    312682.5   \n",
       "100007                   Y             0          121500.0    513000.0   \n",
       "\n",
       "            AMT_ANNUITY  AMT_GOODS_PRICE  ...  \\\n",
       "SK_ID_CURR                                ...   \n",
       "100002          24700.5         351000.0  ...   \n",
       "100003          35698.5        1129500.0  ...   \n",
       "100004           6750.0         135000.0  ...   \n",
       "100006          29686.5         297000.0  ...   \n",
       "100007          21865.5         513000.0  ...   \n",
       "\n",
       "           MODE(credit_card_balance.previous_application.NAME_PRODUCT_TYPE)  \\\n",
       "SK_ID_CURR                                                                    \n",
       "100002                                                    NaN                 \n",
       "100003                                                    NaN                 \n",
       "100004                                                    NaN                 \n",
       "100006                                                 x-sell                 \n",
       "100007                                                    NaN                 \n",
       "\n",
       "           MODE(credit_card_balance.previous_application.FLAG_LAST_APPL_PER_CONTRACT)  \\\n",
       "SK_ID_CURR                                                                              \n",
       "100002                                                    NaN                           \n",
       "100003                                                    NaN                           \n",
       "100004                                                    NaN                           \n",
       "100006                                                      Y                           \n",
       "100007                                                    NaN                           \n",
       "\n",
       "           MODE(credit_card_balance.previous_application.NAME_PORTFOLIO)  \\\n",
       "SK_ID_CURR                                                                 \n",
       "100002                                                    NaN              \n",
       "100003                                                    NaN              \n",
       "100004                                                    NaN              \n",
       "100006                                                  Cards              \n",
       "100007                                                    NaN              \n",
       "\n",
       "           MODE(credit_card_balance.previous_application.NAME_SELLER_INDUSTRY)  \\\n",
       "SK_ID_CURR                                                                       \n",
       "100002                                                    NaN                    \n",
       "100003                                                    NaN                    \n",
       "100004                                                    NaN                    \n",
       "100006                                                    XNA                    \n",
       "100007                                                    NaN                    \n",
       "\n",
       "           MODE(credit_card_balance.previous_application.WEEKDAY_APPR_PROCESS_START)  \\\n",
       "SK_ID_CURR                                                                             \n",
       "100002                                                    NaN                          \n",
       "100003                                                    NaN                          \n",
       "100004                                                    NaN                          \n",
       "100006                                               THURSDAY                          \n",
       "100007                                                    NaN                          \n",
       "\n",
       "            MODE(credit_card_balance.previous_application.NAME_CONTRACT_STATUS)  \\\n",
       "SK_ID_CURR                                                                        \n",
       "100002                                                    NaN                     \n",
       "100003                                                    NaN                     \n",
       "100004                                                    NaN                     \n",
       "100006                                               Approved                     \n",
       "100007                                                    NaN                     \n",
       "\n",
       "            MODE(credit_card_balance.previous_application.PRODUCT_COMBINATION)  \\\n",
       "SK_ID_CURR                                                                       \n",
       "100002                                                    NaN                    \n",
       "100003                                                    NaN                    \n",
       "100004                                                    NaN                    \n",
       "100006                                            Card X-Sell                    \n",
       "100007                                                    NaN                    \n",
       "\n",
       "            MODE(credit_card_balance.previous_application.NAME_CASH_LOAN_PURPOSE)  \\\n",
       "SK_ID_CURR                                                                          \n",
       "100002                                                    NaN                       \n",
       "100003                                                    NaN                       \n",
       "100004                                                    NaN                       \n",
       "100006                                                    XAP                       \n",
       "100007                                                    NaN                       \n",
       "\n",
       "            MODE(credit_card_balance.previous_application.NAME_CONTRACT_TYPE)  \\\n",
       "SK_ID_CURR                                                                      \n",
       "100002                                                    NaN                   \n",
       "100003                                                    NaN                   \n",
       "100004                                                    NaN                   \n",
       "100006                                        Revolving loans                   \n",
       "100007                                                    NaN                   \n",
       "\n",
       "            MODE(credit_card_balance.previous_application.CHANNEL_TYPE)  \n",
       "SK_ID_CURR                                                               \n",
       "100002                                                    NaN            \n",
       "100003                                                    NaN            \n",
       "100004                                                    NaN            \n",
       "100006                                Credit and cash offices            \n",
       "100007                                                    NaN            \n",
       "\n",
       "[5 rows x 1180 columns]"
      ]
     },
     "execution_count": 50,
     "metadata": {},
     "output_type": "execute_result"
    }
   ],
   "source": [
    "feature_matrix_spec.head()"
   ]
  },
  {
   "cell_type": "code",
   "execution_count": 51,
   "metadata": {},
   "outputs": [
    {
     "data": {
      "text/plain": [
       "(2985, 1180)"
      ]
     },
     "execution_count": 51,
     "metadata": {},
     "output_type": "execute_result"
    }
   ],
   "source": [
    "feature_matrix_spec.shape"
   ]
  },
  {
   "cell_type": "markdown",
   "metadata": {},
   "source": [
    "Clearing up System memory to run on Dask"
   ]
  },
  {
   "cell_type": "code",
   "execution_count": 29,
   "metadata": {},
   "outputs": [
    {
     "data": {
      "text/plain": [
       "0"
      ]
     },
     "execution_count": 29,
     "metadata": {},
     "output_type": "execute_result"
    }
   ],
   "source": [
    "import gc\n",
    "\n",
    "# Free up all system memory\n",
    "gc.enable()\n",
    "del application, bureau, bureau_balance, previous_application, credit_card_balance, POS_CASH_balance, installment_payments\n",
    "gc.collect()"
   ]
  },
  {
   "cell_type": "markdown",
   "metadata": {},
   "source": [
    "I have used Dask to run the full Deep feature Synthesis as it parallelizes the total feature calculation process \n",
    "and it can be run quickly. It took me a total of 3 hours to get the final feature matrix. Dask utilizes all the cores from the system and runs the entire operation in parallel, thus acheiving the process quicker without the external use of a supercomputer. "
   ]
  },
  {
   "cell_type": "code",
   "execution_count": 30,
   "metadata": {},
   "outputs": [],
   "source": [
    "import dask.bag as db\n",
    "from dask.distributed import Client\n",
    "\n",
    "# Use all 8 cores\n",
    "client = Client(processes = True)"
   ]
  },
  {
   "cell_type": "code",
   "execution_count": 31,
   "metadata": {},
   "outputs": [
    {
     "data": {
      "text/plain": [
       "{'tcp://127.0.0.1:56164': 2,\n",
       " 'tcp://127.0.0.1:56168': 2,\n",
       " 'tcp://127.0.0.1:56170': 2,\n",
       " 'tcp://127.0.0.1:56172': 2}"
      ]
     },
     "execution_count": 31,
     "metadata": {},
     "output_type": "execute_result"
    }
   ],
   "source": [
    "client.ncores()"
   ]
  },
  {
   "cell_type": "markdown",
   "metadata": {},
   "source": [
    "Path Creation to run the process"
   ]
  },
  {
   "cell_type": "code",
   "execution_count": 33,
   "metadata": {},
   "outputs": [
    {
     "data": {
      "text/plain": [
       "['C:/d1',\n",
       " 'C:/d2',\n",
       " 'C:/d3',\n",
       " 'C:/d4',\n",
       " 'C:/d5',\n",
       " 'C:/d6',\n",
       " 'C:/d7',\n",
       " 'C:/d8',\n",
       " 'C:/d9',\n",
       " 'C:/d10',\n",
       " 'C:/d11',\n",
       " 'C:/d12',\n",
       " 'C:/d13',\n",
       " 'C:/d14',\n",
       " 'C:/d15',\n",
       " 'C:/d16',\n",
       " 'C:/d17',\n",
       " 'C:/d18',\n",
       " 'C:/d19',\n",
       " 'C:/d20',\n",
       " 'C:/d21',\n",
       " 'C:/d22',\n",
       " 'C:/d23',\n",
       " 'C:/d24',\n",
       " 'C:/d25',\n",
       " 'C:/d26',\n",
       " 'C:/d27',\n",
       " 'C:/d28',\n",
       " 'C:/d29',\n",
       " 'C:/d30',\n",
       " 'C:/d31',\n",
       " 'C:/d32',\n",
       " 'C:/d33',\n",
       " 'C:/d34',\n",
       " 'C:/d35',\n",
       " 'C:/d36',\n",
       " 'C:/d37',\n",
       " 'C:/d38',\n",
       " 'C:/d39',\n",
       " 'C:/d40',\n",
       " 'C:/d41',\n",
       " 'C:/d42',\n",
       " 'C:/d43',\n",
       " 'C:/d44',\n",
       " 'C:/d45',\n",
       " 'C:/d46',\n",
       " 'C:/d47',\n",
       " 'C:/d48',\n",
       " 'C:/d49',\n",
       " 'C:/d50',\n",
       " 'C:/d51',\n",
       " 'C:/d52',\n",
       " 'C:/d53',\n",
       " 'C:/d54',\n",
       " 'C:/d55',\n",
       " 'C:/d56',\n",
       " 'C:/d57',\n",
       " 'C:/d58',\n",
       " 'C:/d59',\n",
       " 'C:/d60',\n",
       " 'C:/d61',\n",
       " 'C:/d62',\n",
       " 'C:/d63',\n",
       " 'C:/d64',\n",
       " 'C:/d65',\n",
       " 'C:/d66',\n",
       " 'C:/d67',\n",
       " 'C:/d68',\n",
       " 'C:/d69',\n",
       " 'C:/d70',\n",
       " 'C:/d71',\n",
       " 'C:/d72',\n",
       " 'C:/d73',\n",
       " 'C:/d74',\n",
       " 'C:/d75',\n",
       " 'C:/d76',\n",
       " 'C:/d77',\n",
       " 'C:/d78',\n",
       " 'C:/d79',\n",
       " 'C:/d80',\n",
       " 'C:/d81',\n",
       " 'C:/d82',\n",
       " 'C:/d83',\n",
       " 'C:/d84',\n",
       " 'C:/d85',\n",
       " 'C:/d86',\n",
       " 'C:/d87',\n",
       " 'C:/d88',\n",
       " 'C:/d89',\n",
       " 'C:/d90',\n",
       " 'C:/d91',\n",
       " 'C:/d92',\n",
       " 'C:/d93',\n",
       " 'C:/d94',\n",
       " 'C:/d95',\n",
       " 'C:/d96',\n",
       " 'C:/d97',\n",
       " 'C:/d98',\n",
       " 'C:/d99',\n",
       " 'C:/d100',\n",
       " 'C:/d101',\n",
       " 'C:/d102',\n",
       " 'C:/d103',\n",
       " 'C:/d104']"
      ]
     },
     "execution_count": 33,
     "metadata": {},
     "output_type": "execute_result"
    }
   ],
   "source": [
    "paths = ['C:/d%d' %  i for i in range(1, 105)]\n",
    "paths"
   ]
  },
  {
   "cell_type": "markdown",
   "metadata": {},
   "source": [
    "The bag operation is used to parallelize the tasks"
   ]
  },
  {
   "cell_type": "code",
   "execution_count": 34,
   "metadata": {},
   "outputs": [
    {
     "data": {
      "text/plain": [
       "dask.bag<feature..., npartitions=104>"
      ]
     },
     "execution_count": 34,
     "metadata": {},
     "output_type": "execute_result"
    }
   ],
   "source": [
    "# Create a bag object\n",
    "b = db.from_sequence(paths)\n",
    "\n",
    "# Map entityset function\n",
    "b = b.map(entityset)\n",
    "\n",
    "# Map feature matrix function\n",
    "b = b.map(feature_matrix_from_entityset, feature_defs = feature_defs)\n",
    "    \n",
    "b"
   ]
  },
  {
   "cell_type": "markdown",
   "metadata": {},
   "source": [
    "The final computation is performed for each partition (104 in this case) and the feature matrix is obtained with all the features."
   ]
  },
  {
   "cell_type": "code",
   "execution_count": 35,
   "metadata": {},
   "outputs": [
    {
     "data": {
      "text/plain": [
       "[None,\n",
       " None,\n",
       " None,\n",
       " None,\n",
       " None,\n",
       " None,\n",
       " None,\n",
       " None,\n",
       " None,\n",
       " None,\n",
       " None,\n",
       " None,\n",
       " None,\n",
       " None,\n",
       " None,\n",
       " None,\n",
       " None,\n",
       " None,\n",
       " None,\n",
       " None,\n",
       " None,\n",
       " None,\n",
       " None,\n",
       " None,\n",
       " None,\n",
       " None,\n",
       " None,\n",
       " None,\n",
       " None,\n",
       " None,\n",
       " None,\n",
       " None,\n",
       " None,\n",
       " None,\n",
       " None,\n",
       " None,\n",
       " None,\n",
       " None,\n",
       " None,\n",
       " None,\n",
       " None,\n",
       " None,\n",
       " None,\n",
       " None,\n",
       " None,\n",
       " None,\n",
       " None,\n",
       " None,\n",
       " None,\n",
       " None,\n",
       " None,\n",
       " None,\n",
       " None,\n",
       " None,\n",
       " None,\n",
       " None,\n",
       " None,\n",
       " None,\n",
       " None,\n",
       " None,\n",
       " None,\n",
       " None,\n",
       " None,\n",
       " None,\n",
       " None,\n",
       " None,\n",
       " None,\n",
       " None,\n",
       " None,\n",
       " None,\n",
       " None,\n",
       " None,\n",
       " None,\n",
       " None,\n",
       " None,\n",
       " None,\n",
       " None,\n",
       " None,\n",
       " None,\n",
       " None,\n",
       " None,\n",
       " None,\n",
       " None,\n",
       " None,\n",
       " None,\n",
       " None,\n",
       " None,\n",
       " None,\n",
       " None,\n",
       " None,\n",
       " None,\n",
       " None,\n",
       " None,\n",
       " None,\n",
       " None,\n",
       " None,\n",
       " None,\n",
       " None,\n",
       " None,\n",
       " None,\n",
       " None,\n",
       " None,\n",
       " None,\n",
       " None]"
      ]
     },
     "execution_count": 35,
     "metadata": {},
     "output_type": "execute_result"
    }
   ],
   "source": [
    "b.compute()"
   ]
  },
  {
   "cell_type": "markdown",
   "metadata": {},
   "source": [
    "I have then combined all the partitioned datasets to return the final feature matrix conatining the total applicant data along with all the features. "
   ]
  },
  {
   "cell_type": "code",
   "execution_count": 40,
   "metadata": {},
   "outputs": [],
   "source": [
    "# Base directory for feature matrices\n",
    "base = 'C:/Users/prith/OneDrive/Desktop/Advanced BA with R/'\n",
    "fm_paths = [base + p for p in os.listdir(base) if 'fm.csv' in p]"
   ]
  },
  {
   "cell_type": "code",
   "execution_count": 41,
   "metadata": {},
   "outputs": [],
   "source": [
    "fms = [pd.read_csv(path) for path in fm_paths]"
   ]
  },
  {
   "cell_type": "code",
   "execution_count": 42,
   "metadata": {},
   "outputs": [],
   "source": [
    "feature_matrix = pd.concat(fms, axis = 0)"
   ]
  },
  {
   "cell_type": "code",
   "execution_count": 43,
   "metadata": {},
   "outputs": [
    {
     "name": "stdout",
     "output_type": "stream",
     "text": [
      "Final feature matrix Shape: (307507, 1181)\n"
     ]
    }
   ],
   "source": [
    "print(\"Final feature matrix Shape:\", feature_matrix.shape)"
   ]
  },
  {
   "cell_type": "code",
   "execution_count": 44,
   "metadata": {},
   "outputs": [
    {
     "data": {
      "text/html": [
       "<div>\n",
       "<style scoped>\n",
       "    .dataframe tbody tr th:only-of-type {\n",
       "        vertical-align: middle;\n",
       "    }\n",
       "\n",
       "    .dataframe tbody tr th {\n",
       "        vertical-align: top;\n",
       "    }\n",
       "\n",
       "    .dataframe thead th {\n",
       "        text-align: right;\n",
       "    }\n",
       "</style>\n",
       "<table border=\"1\" class=\"dataframe\">\n",
       "  <thead>\n",
       "    <tr style=\"text-align: right;\">\n",
       "      <th></th>\n",
       "      <th>SK_ID_CURR</th>\n",
       "      <th>TARGET</th>\n",
       "      <th>NAME_CONTRACT_TYPE</th>\n",
       "      <th>CODE_GENDER</th>\n",
       "      <th>FLAG_OWN_CAR</th>\n",
       "      <th>FLAG_OWN_REALTY</th>\n",
       "      <th>CNT_CHILDREN</th>\n",
       "      <th>AMT_INCOME_TOTAL</th>\n",
       "      <th>AMT_CREDIT</th>\n",
       "      <th>AMT_ANNUITY</th>\n",
       "      <th>...</th>\n",
       "      <th>MODE(credit_card_balance.previous_application.NAME_SELLER_INDUSTRY)</th>\n",
       "      <th>MODE(credit_card_balance.previous_application.NAME_CASH_LOAN_PURPOSE)</th>\n",
       "      <th>MODE(credit_card_balance.previous_application.NAME_CONTRACT_STATUS)</th>\n",
       "      <th>MODE(credit_card_balance.previous_application.NAME_PAYMENT_TYPE)</th>\n",
       "      <th>MODE(credit_card_balance.previous_application.WEEKDAY_APPR_PROCESS_START)</th>\n",
       "      <th>MODE(credit_card_balance.previous_application.NAME_TYPE_SUITE)</th>\n",
       "      <th>MODE(credit_card_balance.previous_application.NAME_PORTFOLIO)</th>\n",
       "      <th>MODE(credit_card_balance.previous_application.NAME_YIELD_GROUP)</th>\n",
       "      <th>MODE(credit_card_balance.previous_application.PRODUCT_COMBINATION)</th>\n",
       "      <th>MODE(credit_card_balance.previous_application.CODE_REJECT_REASON)</th>\n",
       "    </tr>\n",
       "  </thead>\n",
       "  <tbody>\n",
       "    <tr>\n",
       "      <th>0</th>\n",
       "      <td>442380</td>\n",
       "      <td>False</td>\n",
       "      <td>Cash loans</td>\n",
       "      <td>F</td>\n",
       "      <td>N</td>\n",
       "      <td>Y</td>\n",
       "      <td>0</td>\n",
       "      <td>270000.0</td>\n",
       "      <td>790830.0</td>\n",
       "      <td>62613.0</td>\n",
       "      <td>...</td>\n",
       "      <td>NaN</td>\n",
       "      <td>NaN</td>\n",
       "      <td>NaN</td>\n",
       "      <td>NaN</td>\n",
       "      <td>NaN</td>\n",
       "      <td>NaN</td>\n",
       "      <td>NaN</td>\n",
       "      <td>NaN</td>\n",
       "      <td>NaN</td>\n",
       "      <td>NaN</td>\n",
       "    </tr>\n",
       "    <tr>\n",
       "      <th>1</th>\n",
       "      <td>442381</td>\n",
       "      <td>False</td>\n",
       "      <td>Cash loans</td>\n",
       "      <td>M</td>\n",
       "      <td>N</td>\n",
       "      <td>N</td>\n",
       "      <td>0</td>\n",
       "      <td>360000.0</td>\n",
       "      <td>152820.0</td>\n",
       "      <td>16177.5</td>\n",
       "      <td>...</td>\n",
       "      <td>XNA</td>\n",
       "      <td>XAP</td>\n",
       "      <td>Approved</td>\n",
       "      <td>XNA</td>\n",
       "      <td>TUESDAY</td>\n",
       "      <td>NaN</td>\n",
       "      <td>Cards</td>\n",
       "      <td>XNA</td>\n",
       "      <td>Card X-Sell</td>\n",
       "      <td>XAP</td>\n",
       "    </tr>\n",
       "    <tr>\n",
       "      <th>2</th>\n",
       "      <td>442382</td>\n",
       "      <td>False</td>\n",
       "      <td>Cash loans</td>\n",
       "      <td>F</td>\n",
       "      <td>N</td>\n",
       "      <td>N</td>\n",
       "      <td>0</td>\n",
       "      <td>306000.0</td>\n",
       "      <td>1042560.0</td>\n",
       "      <td>63913.5</td>\n",
       "      <td>...</td>\n",
       "      <td>NaN</td>\n",
       "      <td>NaN</td>\n",
       "      <td>NaN</td>\n",
       "      <td>NaN</td>\n",
       "      <td>NaN</td>\n",
       "      <td>NaN</td>\n",
       "      <td>NaN</td>\n",
       "      <td>NaN</td>\n",
       "      <td>NaN</td>\n",
       "      <td>NaN</td>\n",
       "    </tr>\n",
       "    <tr>\n",
       "      <th>3</th>\n",
       "      <td>442383</td>\n",
       "      <td>False</td>\n",
       "      <td>Cash loans</td>\n",
       "      <td>F</td>\n",
       "      <td>Y</td>\n",
       "      <td>Y</td>\n",
       "      <td>0</td>\n",
       "      <td>135000.0</td>\n",
       "      <td>1057500.0</td>\n",
       "      <td>28026.0</td>\n",
       "      <td>...</td>\n",
       "      <td>NaN</td>\n",
       "      <td>NaN</td>\n",
       "      <td>NaN</td>\n",
       "      <td>NaN</td>\n",
       "      <td>NaN</td>\n",
       "      <td>NaN</td>\n",
       "      <td>NaN</td>\n",
       "      <td>NaN</td>\n",
       "      <td>NaN</td>\n",
       "      <td>NaN</td>\n",
       "    </tr>\n",
       "    <tr>\n",
       "      <th>4</th>\n",
       "      <td>442384</td>\n",
       "      <td>True</td>\n",
       "      <td>Cash loans</td>\n",
       "      <td>M</td>\n",
       "      <td>N</td>\n",
       "      <td>Y</td>\n",
       "      <td>0</td>\n",
       "      <td>90000.0</td>\n",
       "      <td>513531.0</td>\n",
       "      <td>24835.5</td>\n",
       "      <td>...</td>\n",
       "      <td>NaN</td>\n",
       "      <td>NaN</td>\n",
       "      <td>NaN</td>\n",
       "      <td>NaN</td>\n",
       "      <td>NaN</td>\n",
       "      <td>NaN</td>\n",
       "      <td>NaN</td>\n",
       "      <td>NaN</td>\n",
       "      <td>NaN</td>\n",
       "      <td>NaN</td>\n",
       "    </tr>\n",
       "  </tbody>\n",
       "</table>\n",
       "<p>5 rows × 1181 columns</p>\n",
       "</div>"
      ],
      "text/plain": [
       "   SK_ID_CURR  TARGET NAME_CONTRACT_TYPE CODE_GENDER FLAG_OWN_CAR  \\\n",
       "0      442380   False         Cash loans           F            N   \n",
       "1      442381   False         Cash loans           M            N   \n",
       "2      442382   False         Cash loans           F            N   \n",
       "3      442383   False         Cash loans           F            Y   \n",
       "4      442384    True         Cash loans           M            N   \n",
       "\n",
       "  FLAG_OWN_REALTY  CNT_CHILDREN  AMT_INCOME_TOTAL  AMT_CREDIT  AMT_ANNUITY  \\\n",
       "0               Y             0          270000.0    790830.0      62613.0   \n",
       "1               N             0          360000.0    152820.0      16177.5   \n",
       "2               N             0          306000.0   1042560.0      63913.5   \n",
       "3               Y             0          135000.0   1057500.0      28026.0   \n",
       "4               Y             0           90000.0    513531.0      24835.5   \n",
       "\n",
       "   ...  MODE(credit_card_balance.previous_application.NAME_SELLER_INDUSTRY)  \\\n",
       "0  ...                                                NaN                     \n",
       "1  ...                                                XNA                     \n",
       "2  ...                                                NaN                     \n",
       "3  ...                                                NaN                     \n",
       "4  ...                                                NaN                     \n",
       "\n",
       "  MODE(credit_card_balance.previous_application.NAME_CASH_LOAN_PURPOSE)  \\\n",
       "0                                                NaN                      \n",
       "1                                                XAP                      \n",
       "2                                                NaN                      \n",
       "3                                                NaN                      \n",
       "4                                                NaN                      \n",
       "\n",
       "  MODE(credit_card_balance.previous_application.NAME_CONTRACT_STATUS)  \\\n",
       "0                                                NaN                    \n",
       "1                                           Approved                    \n",
       "2                                                NaN                    \n",
       "3                                                NaN                    \n",
       "4                                                NaN                    \n",
       "\n",
       "  MODE(credit_card_balance.previous_application.NAME_PAYMENT_TYPE)  \\\n",
       "0                                                NaN                 \n",
       "1                                                XNA                 \n",
       "2                                                NaN                 \n",
       "3                                                NaN                 \n",
       "4                                                NaN                 \n",
       "\n",
       "  MODE(credit_card_balance.previous_application.WEEKDAY_APPR_PROCESS_START)  \\\n",
       "0                                                NaN                          \n",
       "1                                            TUESDAY                          \n",
       "2                                                NaN                          \n",
       "3                                                NaN                          \n",
       "4                                                NaN                          \n",
       "\n",
       "  MODE(credit_card_balance.previous_application.NAME_TYPE_SUITE)  \\\n",
       "0                                                NaN               \n",
       "1                                                NaN               \n",
       "2                                                NaN               \n",
       "3                                                NaN               \n",
       "4                                                NaN               \n",
       "\n",
       "   MODE(credit_card_balance.previous_application.NAME_PORTFOLIO)  \\\n",
       "0                                                NaN               \n",
       "1                                              Cards               \n",
       "2                                                NaN               \n",
       "3                                                NaN               \n",
       "4                                                NaN               \n",
       "\n",
       "   MODE(credit_card_balance.previous_application.NAME_YIELD_GROUP)  \\\n",
       "0                                                NaN                 \n",
       "1                                                XNA                 \n",
       "2                                                NaN                 \n",
       "3                                                NaN                 \n",
       "4                                                NaN                 \n",
       "\n",
       "   MODE(credit_card_balance.previous_application.PRODUCT_COMBINATION)  \\\n",
       "0                                                NaN                    \n",
       "1                                        Card X-Sell                    \n",
       "2                                                NaN                    \n",
       "3                                                NaN                    \n",
       "4                                                NaN                    \n",
       "\n",
       "   MODE(credit_card_balance.previous_application.CODE_REJECT_REASON)  \n",
       "0                                                NaN                  \n",
       "1                                                XAP                  \n",
       "2                                                NaN                  \n",
       "3                                                NaN                  \n",
       "4                                                NaN                  \n",
       "\n",
       "[5 rows x 1181 columns]"
      ]
     },
     "execution_count": 44,
     "metadata": {},
     "output_type": "execute_result"
    }
   ],
   "source": [
    "feature_matrix.head()"
   ]
  },
  {
   "cell_type": "markdown",
   "metadata": {},
   "source": [
    "Finally, load the feature matrix to a CSV for further modelling and deriving the insights."
   ]
  },
  {
   "cell_type": "code",
   "execution_count": 45,
   "metadata": {},
   "outputs": [],
   "source": [
    "feature_matrix.to_csv('C:/Users/prith/OneDrive/Desktop/Advanced BA with R/final_feature.csv')"
   ]
  },
  {
   "cell_type": "markdown",
   "metadata": {},
   "source": [
    "The taks was overall very time consuming, but, I was able to save a lot of time. Running the Deep Feature Synthesis for a dataset of this size and volume would take more than a day in a Supercomputer. But, utlizing all the cores and running the tasks in parallel make it possible to compute the entire feature in over 3 hours. "
   ]
  }
 ],
 "metadata": {
  "kernelspec": {
   "display_name": "Python 3",
   "language": "python",
   "name": "python3"
  },
  "language_info": {
   "codemirror_mode": {
    "name": "ipython",
    "version": 3
   },
   "file_extension": ".py",
   "mimetype": "text/x-python",
   "name": "python",
   "nbconvert_exporter": "python",
   "pygments_lexer": "ipython3",
   "version": "3.7.0"
  }
 },
 "nbformat": 4,
 "nbformat_minor": 2
}
